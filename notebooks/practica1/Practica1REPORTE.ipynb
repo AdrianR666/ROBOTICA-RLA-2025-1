{
 "cells": [
  {
   "cell_type": "markdown",
   "id": "367340ed-70f6-454a-84b4-e05077ae189a",
   "metadata": {},
   "source": [
    "# Practica 1 URDF"
   ]
  },
  {
   "cell_type": "markdown",
   "id": "7d4e00f8-3e58-47ec-848f-1a572cd061a1",
   "metadata": {},
   "source": [
    "| Código | Description |\n",
    "| ------:| ----------- |\n",
    "| ***Asignatura*** | Código del Trabajo o Número de Tarea | \n",
    "| **Robotica-2025-I**  | PRACTICA 1 URDF |"
   ]
  },
  {
   "cell_type": "markdown",
   "id": "1bddf68c-c612-4aa6-b52c-d0bb901c081d",
   "metadata": {},
   "source": [
    "## Contenido\n",
    "\n",
    "- [Objetivo](#objetivo)\n",
    "- [Previo](#previo)\n",
    "- [Desarrollo](#desarrollo)\n",
    "- [Conclusiones](#conclusiones)\n",
    "- [Autor](#autor)\n",
    "- [Referencias](#referencias)\n"
   ]
  },
  {
   "cell_type": "markdown",
   "id": "bd9c8509-4d67-4b6b-865f-3f1f68277461",
   "metadata": {},
   "source": [
    "## Objetivo\n",
    "El objetivo de esta práctica es que el alumno comprenda, interprete y modifique la información básica de los formatos de Universal Robot Description File (URDF)."
   ]
  },
  {
   "cell_type": "markdown",
   "id": "d88dc4d5-7482-4571-9c50-fd4e348704a2",
   "metadata": {},
   "source": [
    "## Previo"
   ]
  },
  {
   "cell_type": "markdown",
   "id": "4cef8b6a-0e9a-478b-ba43-1c692534732b",
   "metadata": {
    "jp-MarkdownHeadingCollapsed": true
   },
   "source": [
    "- **Definición de URDF**\n",
    "\n",
    "El formato URDF(Unified Robot Description Format) es una especificacion XML que permite descriibir como es un robot de modo que se puede definir el aspecto visual, su cinemática y dinámica, el modelo de colision. Este formato tiene la limitacion de solo poder represaentar estructuras de árbol, lo que descarte robots paralelos, ademas las especificaciones suponen que el robot consta de enlaces rigidos conectados por articulaciones; no se admiten elementos flexibles.\n",
    "  \n",
    "  ![urdf_des](Imagenes/link.png)\n",
    "- **Tipos de juntas que están definidas dentro del formato URDF: En función del tipo de movimiento que permita la unión entre dos partes se tienen diferentes tipos de articulaciones. Las permitidas por la especificación URDF son las siguientes:**\n",
    "  \n",
    "| Tipo de junta | Descripción |\n",
    "| ------:| ----------- |\n",
    "| ***Revolute*** | Permite el giro sobre un eje y tiene un rango limitado especificado por los límites superior e inferior.| \n",
    "| **Continuous** | Permite el giro alrededor de un eje y no tiene límites superior e inferior.|\n",
    "| **Prismatic**  | Permite el deslizamiento a lo largo de un eje y tiene un rango limitado especificado por los límites superior e inferior.|\n",
    "| **Fixed** | No permite ningún tipo de movimiento por lo que realmente no es una articulación, pero es útil cuando interesa asociar al enlace un sistema de referencia en un punto concreto, por ejemplo para el caso de sensores o cámaras. |\n",
    "| **Floating** | Permite el movimiento en los 6 grados de libertad. |\n",
    "| **Planar**|  Permite el movimiento en un plano perpendicular al eje. |\n",
    "\n",
    "- **Definición de elementos \"primitivos\" que se pueden utilizar para definir un robot en ROS.**\n",
    "  \n",
    "  Los elementos primitivos en ROS son los componentes básicos que permiten la comunicación, el control y la interacción con robots. Estos elementos constituyen el núcleo del ecosistema de ROS y proporcionan una estructura modular para desarrollar sistemas robóticos, por ejemplo, nodos, mensajes, topicos, servicios, acciones\n",
    "- **Que es un nodo y que es un topico en ROS 2**\n",
    "  \n",
    "|Elemento | Descripción |\n",
    "| --------:| ------------- |\n",
    "| **Nodo**| Un nodo es una unidad básica de procesamiento en ROS. Representa un proceso que realiza tareas específicas, como leer datos de un sensor o controlar motores. Losnodos se comunican entre sí a través de mensajes, servicios o acciones.Un sistema de control de robot generalmente comprenderá muchos nodos. |\n",
    "|**Topico**| Los tópicos son canales de comunicación que permiten que los nodos publiquen o se suscriban a mensajes de un tipo específico. Los mensajes fluyen a través detópicos, permitiendo la comunicación entre nodos.|\n",
    "\n",
    "- **Que es RVIZ.**\n",
    "\n",
    "Rviz, que significa ROS Visualization, es una herramienta de visualización 3D principal para ROS y es mantenida por la Open Source Robotics Foundation (OSRF). Es una herramienta esencial para el desarrollo, la simulación y la depuración de robots en entornos ROS, ya que proporciona información sobre el comportamiento de los robots y los datos de los sensores de una manera visualmente intuitiva.\n",
    "\n",
    "![rvizv](Imagenes/rvizv.png)"
   ]
  },
  {
   "cell_type": "markdown",
   "id": "31a29765-aa6a-48db-a013-be5540883af0",
   "metadata": {},
   "source": [
    "## Desarrollo\n"
   ]
  },
  {
   "cell_type": "markdown",
   "id": "d9deac95-c495-435f-ac7e-478e7f333125",
   "metadata": {},
   "source": [
    "El desarrollo de la práctica se divide en dos partes:\n",
    "\n",
    "- La primera parte de realizará en clase, en la cual se desarrollará y simulará de descripción de un eslabón cayo movimiento está restringido por una junta rotacional.\n",
    "- El alumno debe modificar el código del archivo para agregar otro eslabón el cual puede estar unido por al primer eslabón por una junta revolución o una junta prismática."
   ]
  },
  {
   "cell_type": "markdown",
   "id": "c3edc5c6-bae5-4256-ae78-8031970a423d",
   "metadata": {},
   "source": [
    "##  Resultados "
   ]
  },
  {
   "cell_type": "markdown",
   "id": "98a2498d-e234-474c-a3df-caa83f4406cb",
   "metadata": {},
   "source": [
    "1. **Codigo de clase y visualizacion**: En el siguinete video se presenta la primera parte del deserrollo de la practica, podemos ver la simulación de un eslabon en el cual su movimiento se encuentra restringido por una junta rotacional.\n",
    "   \n",
    "[![Primera parte desarrollo](https://img.youtube.com/vi/hg7OCMtHaNg/0.jpg)](https://youtu.be/hg7OCMtHaNg)\n"
   ]
  },
  {
   "cell_type": "markdown",
   "id": "4eb625bd-8580-4aae-adcf-25cb6543272a",
   "metadata": {},
   "source": [
    "***Codigo***\n",
    "\n",
    "El presente bloque de codigo describe la junta entre la \"base\" y el primer eslabón, notando que se trata de una junta **rotacional**\n",
    "\n",
    "```\n",
    "   <joint name=\"base_link_to_link_1_joint\" type=\"revolute\">\n",
    "        <parent link=\"base_link\" />\n",
    "        <child link=\"link_1\" />\n",
    "        <axis xyz=\"1 0 0\" />\n",
    "        <limit lower=\"-3.14159\" upper=\"3.14159\" velocity=\"50.0\" \n",
    "            effort=\"1000\" />\n",
    "        <origin xyz=\"0.0 0.0 0.15\" rpy=\"0 0 0\" />\n",
    "    </joint>\n",
    "```"
   ]
  },
  {
   "cell_type": "markdown",
   "id": "12b71536-0e0d-41ac-a32d-28684db179d4",
   "metadata": {},
   "source": [
    "2. **Codigo modificado y visualizacion** : En el siguiente video se presenta la parte visial de la segunda parte del desarrollo, donde el objetivo es agregar un eslabon más ademas de una junta, en este caso se opto por un eslabon cilindrico y por una junta rotacional, dando como resultado lo presentado en el video.\n",
    "\n",
    "   [![Segunda parte desarrollo](https://img.youtube.com/vi/lkCrCSdzflg/0.jpg)](https://youtu.be/lkCrCSdzflg)"
   ]
  },
  {
   "cell_type": "markdown",
   "id": "6310e775-795c-4d37-b9ab-bbb9a7921bd3",
   "metadata": {},
   "source": [
    "***Codigo***\n",
    "\n",
    "El presente bloque de codigo describe al eslabon 2, pudiendo notar que su geometrias es cilindrica\n",
    "\n",
    "```\n",
    " <link name=\"link_2\">\n",
    "        <visual>\n",
    "            <origin xyz=\"0.0 0.0 0.15\" rpy=\"0.0 0.0 0.0\" />\n",
    "            <geometry>\n",
    "                <cylinder radius=\"0.05\" length=\"0.4\" />\n",
    "            </geometry>\n",
    "            <material name=\"color_3\">\n",
    "                <color rgba=\"0.0 0.0 1.0 1.0\" />\n",
    "            </material>\n",
    "        </visual>\n",
    "\n",
    "        <collision>\n",
    "            <origin xyz=\"0.0 0.0 0.15\" rpy=\"0.0 0.0 0.0\" />\n",
    "            <geometry>\n",
    "                <cylinder radius=\"0.05\" length=\"0.4\" />\n",
    "            </geometry>\n",
    "        </collision>\n",
    "\n",
    "        <inertial>\n",
    "            <mass value=\"1.0\" />\n",
    "            <origin xyz=\"0.0 0.0 0.0\" rpy=\"0.0 0.0 0.0\" />\n",
    "            <inertia ixx=\"1.0\" ixy=\"0.0\" ixz=\"0.0\" iyy=\"1.0\" iyz=\"0.0\" izz=\"1.0\" />\n",
    "        </inertial>\n",
    "    </link>\n",
    "\n",
    "```"
   ]
  },
  {
   "cell_type": "markdown",
   "id": "d0a961b1-4c3f-4fef-8b18-fdadc7092ca4",
   "metadata": {},
   "source": [
    "***Codigo***\n",
    "\n",
    "El presente bloque de codigo describe la junta que se hace entre el eslabon 1 y el eslabon 2, notando que el tipo de junta es rotacional.\n",
    "\n",
    "```\n",
    "\n",
    "    <joint name=\"link_1_to_link_2_joint\" type=\"revolute\">\n",
    "        <parent link=\"link_1\" />\n",
    "        <child link=\"link_2\" />\n",
    "        <axis xyz=\"1 0 0\" />\n",
    "        <limit lower=\"-1.5708\" upper=\"1.5708\" velocity=\"50.0\" effort=\"1000\" />\n",
    "        <origin xyz=\"0.0 0.0 0.5\" rpy=\"0 0 0\" />\n",
    "    </joint>\n",
    "\n",
    "\n",
    "```"
   ]
  },
  {
   "cell_type": "markdown",
   "id": "50db0c08-c88d-4a3b-89ab-8caea6a442d8",
   "metadata": {},
   "source": [
    "## Autor\n"
   ]
  },
  {
   "cell_type": "markdown",
   "id": "90a028e9-116e-48dd-9ab4-f7648ca50756",
   "metadata": {},
   "source": [
    "**Autor** Adrian Rodriguez Loza  [GitHub profile](https://github.com/AdrianR666)"
   ]
  },
  {
   "cell_type": "markdown",
   "id": "78f35735-24cb-4428-8205-57b7a81447f6",
   "metadata": {},
   "source": [
    "## Conclusión"
   ]
  },
  {
   "cell_type": "markdown",
   "id": "eeedf1ff-ab57-4b22-bade-18356c7d07d1",
   "metadata": {},
   "source": [
    "En esta práctica, se logró cumplir el objetivo principal de comprender, interpretar y modificar la información básica de los formatos URDF (Universal Robot Description File). A través de la edición de archivos URDF, aprendí a estructurar la descripción de un robot serial utilizando eslabones y juntas, y a visualizar el modelo resultante en RViz. Esto me permitió comprender de forma clara cómo los robots se modelan en ROS 2, y cómo los parámetros de cada componente afectan su comportamiento cinemático y visual.\n",
    "Uno de los aspectos más interesantes fue ver cómo pequeñas modificaciones en las definiciones de las juntas, como las revolutas o prismáticas, afectan directamente el comportamiento del robot. Este ejercicio me hizo darme cuenta de lo importante que es ser preciso al modelar robots para asegurar que se muevan como se espera.\n",
    "\n",
    "Esta práctica me proporcionó una base sólida para seguir trabajando en el modelado y simulación de robots en el futuro. Las herramientas que utilicé, como ROS 2 y RViz, son clave para el desarrollo de proyectos en el ámbito de la mecatrónica, y ahora me siento más preparado para aplicarlas en trabajos más complejos."
   ]
  },
  {
   "cell_type": "markdown",
   "id": "2d6d564e-72ba-4147-bc0e-813f6b6c0c34",
   "metadata": {},
   "source": [
    "## Referencias "
   ]
  },
  {
   "cell_type": "markdown",
   "id": "0c794b1c-7e7b-48bc-bc0d-537598d455e2",
   "metadata": {},
   "source": [
    "<a id=\"1\">[1]</a>  urdf - ROS Wiki. https://wiki.ros.org/urdf\n",
    "\n",
    "<a id=\"2\">[2]</a> urdf/XML/model - ROS Wiki. https://wiki.ros.org/urdf/XML/model\n",
    "\n",
    "<a id=\"3\">[3]</a> Aprendizaje URDF (1) Qué es URDF y cómo entender un archivo URDF - programador clic. https://programmerclick.com/article/29081682599/\n",
    "\n",
    "<a id=\"4\">[4]</a> urdf/XML/joint - ROS Wiki. https://wiki.ros.org/urdf/XML/joint\n",
    "\n",
    "<a id=\"5\">[5]</a> Describing robots with URDF | Articulated Robotics. https://articulatedrobotics.xyz/tutorials/ready-for-ros/urdf/\n",
    "\n",
    "<a id=\"6\">[6]</a> Erle Robotics, «Conceptos · Erle Robotics Gitbook». https://erlerobotics.gitbooks.io/erlerobot/content/es/ros/ROS-concepts.html\n",
    "\n",
    "<a id=\"7\">[7]</a> Erle Robotics, «Entendiendo los nodos de ROS · Erle Robotics Gitbook». https://erlerobotics.gitbooks.io/erlerobot/content/es/ros/tutorials/understanding_ros_nodes.html\n",
    "\n",
    "<a id=\"8\">[8]</a> A.P.M, «ROS: Nodos, publisher, subscriber y topics. https://www.codio.es/2023/09/ros-nodos-publisher-subscriber-topic-introduccion.html\n",
    "\n",
    "\n",
    "<a id=\"9\">[9]</a> es/ROS/Tutoriales/ComprendiendoNodosROS - ROS Wiki. https://wiki.ros.org/es/ROS/Tutoriales/ComprendiendoNodosROS\n",
    "\n",
    "\n",
    "<a id=\"10\">[10]</a> RViz User Guide — ROS 2 Documentation: Rolling  documentation. https://docs.ros.org/en/rolling/Tutorials/Intermediate/RViz/RViz-User-Guide/RViz-User-Guide.html"
   ]
  }
 ],
 "metadata": {
  "kernelspec": {
   "display_name": "Python 3 (ipykernel)",
   "language": "python",
   "name": "python3"
  },
  "language_info": {
   "codemirror_mode": {
    "name": "ipython",
    "version": 3
   },
   "file_extension": ".py",
   "mimetype": "text/x-python",
   "name": "python",
   "nbconvert_exporter": "python",
   "pygments_lexer": "ipython3",
   "version": "3.10.12"
  }
 },
 "nbformat": 4,
 "nbformat_minor": 5
}
